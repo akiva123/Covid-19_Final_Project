{
 "cells": [
  {
   "cell_type": "code",
   "execution_count": 119,
   "metadata": {},
   "outputs": [],
   "source": [
    "%run Import.ipynb"
   ]
  },
  {
   "cell_type": "markdown",
   "metadata": {},
   "source": [
    "# Introduction"
   ]
  },
  {
   "cell_type": "markdown",
   "metadata": {},
   "source": [
    "This report uses logistic regression to determine the log odds relationship between the presence of government responses to covid-19 and the presence of cases of the virus."
   ]
  },
  {
   "cell_type": "markdown",
   "metadata": {},
   "source": [
    "Import dataset."
   ]
  },
  {
   "cell_type": "code",
   "execution_count": 121,
   "metadata": {},
   "outputs": [
    {
     "data": {
      "text/html": [
       "<div>\n",
       "<style scoped>\n",
       "    .dataframe tbody tr th:only-of-type {\n",
       "        vertical-align: middle;\n",
       "    }\n",
       "\n",
       "    .dataframe tbody tr th {\n",
       "        vertical-align: top;\n",
       "    }\n",
       "\n",
       "    .dataframe thead th {\n",
       "        text-align: right;\n",
       "    }\n",
       "</style>\n",
       "<table border=\"1\" class=\"dataframe\">\n",
       "  <thead>\n",
       "    <tr style=\"text-align: right;\">\n",
       "      <th></th>\n",
       "      <th>country</th>\n",
       "      <th>geoid</th>\n",
       "      <th>iso</th>\n",
       "      <th>d</th>\n",
       "      <th>cases</th>\n",
       "      <th>deaths</th>\n",
       "      <th>school</th>\n",
       "      <th>school_local</th>\n",
       "      <th>domestic</th>\n",
       "      <th>domestic_local</th>\n",
       "      <th>...</th>\n",
       "      <th>wage</th>\n",
       "      <th>credit</th>\n",
       "      <th>taxc</th>\n",
       "      <th>taxd</th>\n",
       "      <th>export</th>\n",
       "      <th>rate</th>\n",
       "      <th>Rigidity_Public_Health</th>\n",
       "      <th>Economic_Measures</th>\n",
       "      <th>population_2019</th>\n",
       "      <th>continent</th>\n",
       "    </tr>\n",
       "  </thead>\n",
       "  <tbody>\n",
       "    <tr>\n",
       "      <th>0</th>\n",
       "      <td>Aruba</td>\n",
       "      <td>AW</td>\n",
       "      <td>ABW</td>\n",
       "      <td>2020-01-01 00:00:00</td>\n",
       "      <td>0.0</td>\n",
       "      <td>0.0</td>\n",
       "      <td>0.0</td>\n",
       "      <td>0.0</td>\n",
       "      <td>NaN</td>\n",
       "      <td>NaN</td>\n",
       "      <td>...</td>\n",
       "      <td>0.0</td>\n",
       "      <td>0.0</td>\n",
       "      <td>0.0</td>\n",
       "      <td>0.0</td>\n",
       "      <td>0.0</td>\n",
       "      <td>0.0</td>\n",
       "      <td>NaN</td>\n",
       "      <td>0.000000</td>\n",
       "      <td>106310.0</td>\n",
       "      <td>America</td>\n",
       "    </tr>\n",
       "    <tr>\n",
       "      <th>1</th>\n",
       "      <td>Aruba</td>\n",
       "      <td>AW</td>\n",
       "      <td>ABW</td>\n",
       "      <td>2020-01-02 00:00:00</td>\n",
       "      <td>0.0</td>\n",
       "      <td>0.0</td>\n",
       "      <td>0.0</td>\n",
       "      <td>0.0</td>\n",
       "      <td>NaN</td>\n",
       "      <td>NaN</td>\n",
       "      <td>...</td>\n",
       "      <td>0.0</td>\n",
       "      <td>0.0</td>\n",
       "      <td>0.0</td>\n",
       "      <td>0.0</td>\n",
       "      <td>0.0</td>\n",
       "      <td>0.0</td>\n",
       "      <td>NaN</td>\n",
       "      <td>0.000000</td>\n",
       "      <td>106310.0</td>\n",
       "      <td>America</td>\n",
       "    </tr>\n",
       "    <tr>\n",
       "      <th>2</th>\n",
       "      <td>Aruba</td>\n",
       "      <td>AW</td>\n",
       "      <td>ABW</td>\n",
       "      <td>2020-01-03 00:00:00</td>\n",
       "      <td>0.0</td>\n",
       "      <td>0.0</td>\n",
       "      <td>0.0</td>\n",
       "      <td>0.0</td>\n",
       "      <td>NaN</td>\n",
       "      <td>NaN</td>\n",
       "      <td>...</td>\n",
       "      <td>0.0</td>\n",
       "      <td>0.0</td>\n",
       "      <td>0.0</td>\n",
       "      <td>0.0</td>\n",
       "      <td>0.0</td>\n",
       "      <td>0.0</td>\n",
       "      <td>NaN</td>\n",
       "      <td>0.000000</td>\n",
       "      <td>106310.0</td>\n",
       "      <td>America</td>\n",
       "    </tr>\n",
       "    <tr>\n",
       "      <th>3</th>\n",
       "      <td>Aruba</td>\n",
       "      <td>AW</td>\n",
       "      <td>ABW</td>\n",
       "      <td>2020-01-04 00:00:00</td>\n",
       "      <td>0.0</td>\n",
       "      <td>0.0</td>\n",
       "      <td>0.0</td>\n",
       "      <td>0.0</td>\n",
       "      <td>NaN</td>\n",
       "      <td>NaN</td>\n",
       "      <td>...</td>\n",
       "      <td>0.0</td>\n",
       "      <td>0.0</td>\n",
       "      <td>0.0</td>\n",
       "      <td>0.0</td>\n",
       "      <td>0.0</td>\n",
       "      <td>0.0</td>\n",
       "      <td>NaN</td>\n",
       "      <td>0.000000</td>\n",
       "      <td>106310.0</td>\n",
       "      <td>America</td>\n",
       "    </tr>\n",
       "    <tr>\n",
       "      <th>4</th>\n",
       "      <td>Aruba</td>\n",
       "      <td>AW</td>\n",
       "      <td>ABW</td>\n",
       "      <td>2020-01-05 00:00:00</td>\n",
       "      <td>0.0</td>\n",
       "      <td>0.0</td>\n",
       "      <td>0.0</td>\n",
       "      <td>0.0</td>\n",
       "      <td>NaN</td>\n",
       "      <td>NaN</td>\n",
       "      <td>...</td>\n",
       "      <td>0.0</td>\n",
       "      <td>0.0</td>\n",
       "      <td>0.0</td>\n",
       "      <td>0.0</td>\n",
       "      <td>0.0</td>\n",
       "      <td>0.0</td>\n",
       "      <td>NaN</td>\n",
       "      <td>0.000000</td>\n",
       "      <td>106310.0</td>\n",
       "      <td>America</td>\n",
       "    </tr>\n",
       "    <tr>\n",
       "      <th>...</th>\n",
       "      <td>...</td>\n",
       "      <td>...</td>\n",
       "      <td>...</td>\n",
       "      <td>...</td>\n",
       "      <td>...</td>\n",
       "      <td>...</td>\n",
       "      <td>...</td>\n",
       "      <td>...</td>\n",
       "      <td>...</td>\n",
       "      <td>...</td>\n",
       "      <td>...</td>\n",
       "      <td>...</td>\n",
       "      <td>...</td>\n",
       "      <td>...</td>\n",
       "      <td>...</td>\n",
       "      <td>...</td>\n",
       "      <td>...</td>\n",
       "      <td>...</td>\n",
       "      <td>...</td>\n",
       "      <td>...</td>\n",
       "      <td>...</td>\n",
       "    </tr>\n",
       "    <tr>\n",
       "      <th>62695</th>\n",
       "      <td>Hong Kong</td>\n",
       "      <td>HK</td>\n",
       "      <td>HKG</td>\n",
       "      <td>2020-09-29 00:00:00</td>\n",
       "      <td>NaN</td>\n",
       "      <td>NaN</td>\n",
       "      <td>1.0</td>\n",
       "      <td>0.0</td>\n",
       "      <td>0.0</td>\n",
       "      <td>0.0</td>\n",
       "      <td>...</td>\n",
       "      <td>1.0</td>\n",
       "      <td>0.0</td>\n",
       "      <td>0.0</td>\n",
       "      <td>1.0</td>\n",
       "      <td>1.0</td>\n",
       "      <td>1.0</td>\n",
       "      <td>0.461539</td>\n",
       "      <td>0.714286</td>\n",
       "      <td>NaN</td>\n",
       "      <td>NaN</td>\n",
       "    </tr>\n",
       "    <tr>\n",
       "      <th>62696</th>\n",
       "      <td>Hong Kong</td>\n",
       "      <td>HK</td>\n",
       "      <td>HKG</td>\n",
       "      <td>2020-09-30 00:00:00</td>\n",
       "      <td>NaN</td>\n",
       "      <td>NaN</td>\n",
       "      <td>1.0</td>\n",
       "      <td>0.0</td>\n",
       "      <td>0.0</td>\n",
       "      <td>0.0</td>\n",
       "      <td>...</td>\n",
       "      <td>1.0</td>\n",
       "      <td>0.0</td>\n",
       "      <td>0.0</td>\n",
       "      <td>1.0</td>\n",
       "      <td>1.0</td>\n",
       "      <td>1.0</td>\n",
       "      <td>0.461539</td>\n",
       "      <td>0.714286</td>\n",
       "      <td>NaN</td>\n",
       "      <td>NaN</td>\n",
       "    </tr>\n",
       "    <tr>\n",
       "      <th>62697</th>\n",
       "      <td>Macau</td>\n",
       "      <td>MO</td>\n",
       "      <td>MAC</td>\n",
       "      <td>2020-09-30 00:00:00</td>\n",
       "      <td>NaN</td>\n",
       "      <td>NaN</td>\n",
       "      <td>1.0</td>\n",
       "      <td>0.0</td>\n",
       "      <td>0.0</td>\n",
       "      <td>0.0</td>\n",
       "      <td>...</td>\n",
       "      <td>1.0</td>\n",
       "      <td>1.0</td>\n",
       "      <td>1.0</td>\n",
       "      <td>0.0</td>\n",
       "      <td>0.0</td>\n",
       "      <td>1.0</td>\n",
       "      <td>0.250000</td>\n",
       "      <td>0.714286</td>\n",
       "      <td>NaN</td>\n",
       "      <td>NaN</td>\n",
       "    </tr>\n",
       "    <tr>\n",
       "      <th>62698</th>\n",
       "      <td>Hong Kong</td>\n",
       "      <td>HK</td>\n",
       "      <td>HKG</td>\n",
       "      <td>2020-10-01 00:00:00</td>\n",
       "      <td>NaN</td>\n",
       "      <td>NaN</td>\n",
       "      <td>1.0</td>\n",
       "      <td>0.0</td>\n",
       "      <td>0.0</td>\n",
       "      <td>0.0</td>\n",
       "      <td>...</td>\n",
       "      <td>1.0</td>\n",
       "      <td>0.0</td>\n",
       "      <td>0.0</td>\n",
       "      <td>1.0</td>\n",
       "      <td>1.0</td>\n",
       "      <td>1.0</td>\n",
       "      <td>0.461539</td>\n",
       "      <td>0.714286</td>\n",
       "      <td>NaN</td>\n",
       "      <td>NaN</td>\n",
       "    </tr>\n",
       "    <tr>\n",
       "      <th>62699</th>\n",
       "      <td>Macau</td>\n",
       "      <td>MO</td>\n",
       "      <td>MAC</td>\n",
       "      <td>2020-10-01 00:00:00</td>\n",
       "      <td>NaN</td>\n",
       "      <td>NaN</td>\n",
       "      <td>1.0</td>\n",
       "      <td>0.0</td>\n",
       "      <td>0.0</td>\n",
       "      <td>0.0</td>\n",
       "      <td>...</td>\n",
       "      <td>1.0</td>\n",
       "      <td>1.0</td>\n",
       "      <td>1.0</td>\n",
       "      <td>0.0</td>\n",
       "      <td>0.0</td>\n",
       "      <td>1.0</td>\n",
       "      <td>0.250000</td>\n",
       "      <td>0.714286</td>\n",
       "      <td>NaN</td>\n",
       "      <td>NaN</td>\n",
       "    </tr>\n",
       "  </tbody>\n",
       "</table>\n",
       "<p>62700 rows × 43 columns</p>\n",
       "</div>"
      ],
      "text/plain": [
       "         country geoid  iso                    d  cases  deaths  school  \\\n",
       "0          Aruba    AW  ABW  2020-01-01 00:00:00    0.0     0.0     0.0   \n",
       "1          Aruba    AW  ABW  2020-01-02 00:00:00    0.0     0.0     0.0   \n",
       "2          Aruba    AW  ABW  2020-01-03 00:00:00    0.0     0.0     0.0   \n",
       "3          Aruba    AW  ABW  2020-01-04 00:00:00    0.0     0.0     0.0   \n",
       "4          Aruba    AW  ABW  2020-01-05 00:00:00    0.0     0.0     0.0   \n",
       "...          ...   ...  ...                  ...    ...     ...     ...   \n",
       "62695  Hong Kong    HK  HKG  2020-09-29 00:00:00    NaN     NaN     1.0   \n",
       "62696  Hong Kong    HK  HKG  2020-09-30 00:00:00    NaN     NaN     1.0   \n",
       "62697      Macau    MO  MAC  2020-09-30 00:00:00    NaN     NaN     1.0   \n",
       "62698  Hong Kong    HK  HKG  2020-10-01 00:00:00    NaN     NaN     1.0   \n",
       "62699      Macau    MO  MAC  2020-10-01 00:00:00    NaN     NaN     1.0   \n",
       "\n",
       "       school_local  domestic  domestic_local  ...  wage  credit  taxc  taxd  \\\n",
       "0               0.0       NaN             NaN  ...   0.0     0.0   0.0   0.0   \n",
       "1               0.0       NaN             NaN  ...   0.0     0.0   0.0   0.0   \n",
       "2               0.0       NaN             NaN  ...   0.0     0.0   0.0   0.0   \n",
       "3               0.0       NaN             NaN  ...   0.0     0.0   0.0   0.0   \n",
       "4               0.0       NaN             NaN  ...   0.0     0.0   0.0   0.0   \n",
       "...             ...       ...             ...  ...   ...     ...   ...   ...   \n",
       "62695           0.0       0.0             0.0  ...   1.0     0.0   0.0   1.0   \n",
       "62696           0.0       0.0             0.0  ...   1.0     0.0   0.0   1.0   \n",
       "62697           0.0       0.0             0.0  ...   1.0     1.0   1.0   0.0   \n",
       "62698           0.0       0.0             0.0  ...   1.0     0.0   0.0   1.0   \n",
       "62699           0.0       0.0             0.0  ...   1.0     1.0   1.0   0.0   \n",
       "\n",
       "       export  rate  Rigidity_Public_Health  Economic_Measures  \\\n",
       "0         0.0   0.0                     NaN           0.000000   \n",
       "1         0.0   0.0                     NaN           0.000000   \n",
       "2         0.0   0.0                     NaN           0.000000   \n",
       "3         0.0   0.0                     NaN           0.000000   \n",
       "4         0.0   0.0                     NaN           0.000000   \n",
       "...       ...   ...                     ...                ...   \n",
       "62695     1.0   1.0                0.461539           0.714286   \n",
       "62696     1.0   1.0                0.461539           0.714286   \n",
       "62697     0.0   1.0                0.250000           0.714286   \n",
       "62698     1.0   1.0                0.461539           0.714286   \n",
       "62699     0.0   1.0                0.250000           0.714286   \n",
       "\n",
       "       population_2019  continent  \n",
       "0             106310.0    America  \n",
       "1             106310.0    America  \n",
       "2             106310.0    America  \n",
       "3             106310.0    America  \n",
       "4             106310.0    America  \n",
       "...                ...        ...  \n",
       "62695              NaN        NaN  \n",
       "62696              NaN        NaN  \n",
       "62697              NaN        NaN  \n",
       "62698              NaN        NaN  \n",
       "62699              NaN        NaN  \n",
       "\n",
       "[62700 rows x 43 columns]"
      ]
     },
     "execution_count": 121,
     "metadata": {},
     "output_type": "execute_result"
    }
   ],
   "source": [
    "df=Json('df1: government responses to covid19')\n",
    "df.excel('Gov_Responses2Covid19_last.xlsx', 'Dataset')\n",
    "df1=json_storage['df1: government responses to covid19'][1]\n",
    "df1"
   ]
  },
  {
   "cell_type": "markdown",
   "metadata": {},
   "source": [
    "# Data Mining"
   ]
  },
  {
   "cell_type": "code",
   "execution_count": 123,
   "metadata": {},
   "outputs": [
    {
     "name": "stdout",
     "output_type": "stream",
     "text": [
      "<class 'pandas.core.frame.DataFrame'>\n",
      "RangeIndex: 62700 entries, 0 to 62699\n",
      "Data columns (total 43 columns):\n",
      " #   Column                  Non-Null Count  Dtype  \n",
      "---  ------                  --------------  -----  \n",
      " 0   country                 62700 non-null  object \n",
      " 1   geoid                   62425 non-null  object \n",
      " 2   iso                     62700 non-null  object \n",
      " 3   d                       62700 non-null  object \n",
      " 4   cases                   57750 non-null  float64\n",
      " 5   deaths                  57750 non-null  float64\n",
      " 6   school                  45758 non-null  float64\n",
      " 7   school_local            45758 non-null  float64\n",
      " 8   domestic                55275 non-null  float64\n",
      " 9   domestic_local          55275 non-null  float64\n",
      " 10  travel                  55275 non-null  float64\n",
      " 11  travel_partial          55275 non-null  float64\n",
      " 12  travel_dom              55275 non-null  float64\n",
      " 13  travel_dom_partial      55275 non-null  float64\n",
      " 14  curf                    55275 non-null  float64\n",
      " 15  curf_partial            55275 non-null  float64\n",
      " 16  mass                    55275 non-null  float64\n",
      " 17  mass_partial            55275 non-null  float64\n",
      " 18  elect                   14834 non-null  float64\n",
      " 19  elect_partial           14834 non-null  float64\n",
      " 20  sport                   55275 non-null  float64\n",
      " 21  sport_partial           55275 non-null  float64\n",
      " 22  rest                    55275 non-null  float64\n",
      " 23  rest_local              55275 non-null  float64\n",
      " 24  testing                 55275 non-null  float64\n",
      " 25  testing_narrow          55275 non-null  float64\n",
      " 26  masks                   51459 non-null  float64\n",
      " 27  masks_partial           51459 non-null  float64\n",
      " 28  surveillance            55275 non-null  float64\n",
      " 29  surveillance_partial    55275 non-null  float64\n",
      " 30  state                   55275 non-null  float64\n",
      " 31  state_partial           55275 non-null  float64\n",
      " 32  cash                    54450 non-null  float64\n",
      " 33  wage                    54450 non-null  float64\n",
      " 34  credit                  54450 non-null  float64\n",
      " 35  taxc                    54450 non-null  float64\n",
      " 36  taxd                    54450 non-null  float64\n",
      " 37  export                  54450 non-null  float64\n",
      " 38  rate                    54450 non-null  float64\n",
      " 39  Rigidity_Public_Health  55275 non-null  float64\n",
      " 40  Economic_Measures       54450 non-null  float64\n",
      " 41  population_2019         57750 non-null  float64\n",
      " 42  continent               61875 non-null  object \n",
      "dtypes: float64(38), object(5)\n",
      "memory usage: 20.6+ MB\n"
     ]
    }
   ],
   "source": [
    "df1.info(verbose=True)"
   ]
  },
  {
   "cell_type": "markdown",
   "metadata": {},
   "source": [
    "# Data Cleaning"
   ]
  },
  {
   "cell_type": "markdown",
   "metadata": {},
   "source": [
    "Cleans government responses to covid 19 dataframe by replacing undesired values with desired ones, and droping undesired columns."
   ]
  },
  {
   "cell_type": "code",
   "execution_count": 125,
   "metadata": {},
   "outputs": [
    {
     "data": {
      "text/html": [
       "<div>\n",
       "<style scoped>\n",
       "    .dataframe tbody tr th:only-of-type {\n",
       "        vertical-align: middle;\n",
       "    }\n",
       "\n",
       "    .dataframe tbody tr th {\n",
       "        vertical-align: top;\n",
       "    }\n",
       "\n",
       "    .dataframe thead th {\n",
       "        text-align: right;\n",
       "    }\n",
       "</style>\n",
       "<table border=\"1\" class=\"dataframe\">\n",
       "  <thead>\n",
       "    <tr style=\"text-align: right;\">\n",
       "      <th></th>\n",
       "      <th>cases</th>\n",
       "      <th>school</th>\n",
       "      <th>domestic</th>\n",
       "      <th>travel</th>\n",
       "      <th>travel_dom</th>\n",
       "      <th>curf</th>\n",
       "      <th>mass</th>\n",
       "      <th>elect</th>\n",
       "      <th>sport</th>\n",
       "      <th>rest</th>\n",
       "      <th>...</th>\n",
       "      <th>masks</th>\n",
       "      <th>surveillance</th>\n",
       "      <th>state</th>\n",
       "      <th>cash</th>\n",
       "      <th>wage</th>\n",
       "      <th>credit</th>\n",
       "      <th>taxc</th>\n",
       "      <th>taxd</th>\n",
       "      <th>export</th>\n",
       "      <th>rate</th>\n",
       "    </tr>\n",
       "  </thead>\n",
       "  <tbody>\n",
       "    <tr>\n",
       "      <th>0</th>\n",
       "      <td>0.0</td>\n",
       "      <td>0.0</td>\n",
       "      <td>0.0</td>\n",
       "      <td>0.0</td>\n",
       "      <td>0.0</td>\n",
       "      <td>0.0</td>\n",
       "      <td>0.0</td>\n",
       "      <td>0.0</td>\n",
       "      <td>0.0</td>\n",
       "      <td>0.0</td>\n",
       "      <td>...</td>\n",
       "      <td>0.0</td>\n",
       "      <td>0.0</td>\n",
       "      <td>0.0</td>\n",
       "      <td>0.0</td>\n",
       "      <td>0.0</td>\n",
       "      <td>0.0</td>\n",
       "      <td>0.0</td>\n",
       "      <td>0.0</td>\n",
       "      <td>0.0</td>\n",
       "      <td>0.0</td>\n",
       "    </tr>\n",
       "    <tr>\n",
       "      <th>1</th>\n",
       "      <td>0.0</td>\n",
       "      <td>0.0</td>\n",
       "      <td>0.0</td>\n",
       "      <td>0.0</td>\n",
       "      <td>0.0</td>\n",
       "      <td>0.0</td>\n",
       "      <td>0.0</td>\n",
       "      <td>0.0</td>\n",
       "      <td>0.0</td>\n",
       "      <td>0.0</td>\n",
       "      <td>...</td>\n",
       "      <td>0.0</td>\n",
       "      <td>0.0</td>\n",
       "      <td>0.0</td>\n",
       "      <td>0.0</td>\n",
       "      <td>0.0</td>\n",
       "      <td>0.0</td>\n",
       "      <td>0.0</td>\n",
       "      <td>0.0</td>\n",
       "      <td>0.0</td>\n",
       "      <td>0.0</td>\n",
       "    </tr>\n",
       "    <tr>\n",
       "      <th>2</th>\n",
       "      <td>0.0</td>\n",
       "      <td>0.0</td>\n",
       "      <td>0.0</td>\n",
       "      <td>0.0</td>\n",
       "      <td>0.0</td>\n",
       "      <td>0.0</td>\n",
       "      <td>0.0</td>\n",
       "      <td>0.0</td>\n",
       "      <td>0.0</td>\n",
       "      <td>0.0</td>\n",
       "      <td>...</td>\n",
       "      <td>0.0</td>\n",
       "      <td>0.0</td>\n",
       "      <td>0.0</td>\n",
       "      <td>0.0</td>\n",
       "      <td>0.0</td>\n",
       "      <td>0.0</td>\n",
       "      <td>0.0</td>\n",
       "      <td>0.0</td>\n",
       "      <td>0.0</td>\n",
       "      <td>0.0</td>\n",
       "    </tr>\n",
       "    <tr>\n",
       "      <th>3</th>\n",
       "      <td>0.0</td>\n",
       "      <td>0.0</td>\n",
       "      <td>0.0</td>\n",
       "      <td>0.0</td>\n",
       "      <td>0.0</td>\n",
       "      <td>0.0</td>\n",
       "      <td>0.0</td>\n",
       "      <td>0.0</td>\n",
       "      <td>0.0</td>\n",
       "      <td>0.0</td>\n",
       "      <td>...</td>\n",
       "      <td>0.0</td>\n",
       "      <td>0.0</td>\n",
       "      <td>0.0</td>\n",
       "      <td>0.0</td>\n",
       "      <td>0.0</td>\n",
       "      <td>0.0</td>\n",
       "      <td>0.0</td>\n",
       "      <td>0.0</td>\n",
       "      <td>0.0</td>\n",
       "      <td>0.0</td>\n",
       "    </tr>\n",
       "    <tr>\n",
       "      <th>4</th>\n",
       "      <td>0.0</td>\n",
       "      <td>0.0</td>\n",
       "      <td>0.0</td>\n",
       "      <td>0.0</td>\n",
       "      <td>0.0</td>\n",
       "      <td>0.0</td>\n",
       "      <td>0.0</td>\n",
       "      <td>0.0</td>\n",
       "      <td>0.0</td>\n",
       "      <td>0.0</td>\n",
       "      <td>...</td>\n",
       "      <td>0.0</td>\n",
       "      <td>0.0</td>\n",
       "      <td>0.0</td>\n",
       "      <td>0.0</td>\n",
       "      <td>0.0</td>\n",
       "      <td>0.0</td>\n",
       "      <td>0.0</td>\n",
       "      <td>0.0</td>\n",
       "      <td>0.0</td>\n",
       "      <td>0.0</td>\n",
       "    </tr>\n",
       "    <tr>\n",
       "      <th>...</th>\n",
       "      <td>...</td>\n",
       "      <td>...</td>\n",
       "      <td>...</td>\n",
       "      <td>...</td>\n",
       "      <td>...</td>\n",
       "      <td>...</td>\n",
       "      <td>...</td>\n",
       "      <td>...</td>\n",
       "      <td>...</td>\n",
       "      <td>...</td>\n",
       "      <td>...</td>\n",
       "      <td>...</td>\n",
       "      <td>...</td>\n",
       "      <td>...</td>\n",
       "      <td>...</td>\n",
       "      <td>...</td>\n",
       "      <td>...</td>\n",
       "      <td>...</td>\n",
       "      <td>...</td>\n",
       "      <td>...</td>\n",
       "      <td>...</td>\n",
       "    </tr>\n",
       "    <tr>\n",
       "      <th>62695</th>\n",
       "      <td>0.0</td>\n",
       "      <td>1.0</td>\n",
       "      <td>0.0</td>\n",
       "      <td>1.0</td>\n",
       "      <td>0.0</td>\n",
       "      <td>0.0</td>\n",
       "      <td>1.0</td>\n",
       "      <td>1.0</td>\n",
       "      <td>1.0</td>\n",
       "      <td>0.0</td>\n",
       "      <td>...</td>\n",
       "      <td>1.0</td>\n",
       "      <td>0.0</td>\n",
       "      <td>0.0</td>\n",
       "      <td>1.0</td>\n",
       "      <td>1.0</td>\n",
       "      <td>0.0</td>\n",
       "      <td>0.0</td>\n",
       "      <td>1.0</td>\n",
       "      <td>1.0</td>\n",
       "      <td>1.0</td>\n",
       "    </tr>\n",
       "    <tr>\n",
       "      <th>62696</th>\n",
       "      <td>0.0</td>\n",
       "      <td>1.0</td>\n",
       "      <td>0.0</td>\n",
       "      <td>1.0</td>\n",
       "      <td>0.0</td>\n",
       "      <td>0.0</td>\n",
       "      <td>1.0</td>\n",
       "      <td>1.0</td>\n",
       "      <td>1.0</td>\n",
       "      <td>0.0</td>\n",
       "      <td>...</td>\n",
       "      <td>1.0</td>\n",
       "      <td>0.0</td>\n",
       "      <td>0.0</td>\n",
       "      <td>1.0</td>\n",
       "      <td>1.0</td>\n",
       "      <td>0.0</td>\n",
       "      <td>0.0</td>\n",
       "      <td>1.0</td>\n",
       "      <td>1.0</td>\n",
       "      <td>1.0</td>\n",
       "    </tr>\n",
       "    <tr>\n",
       "      <th>62697</th>\n",
       "      <td>0.0</td>\n",
       "      <td>1.0</td>\n",
       "      <td>0.0</td>\n",
       "      <td>1.0</td>\n",
       "      <td>0.0</td>\n",
       "      <td>0.0</td>\n",
       "      <td>0.0</td>\n",
       "      <td>0.0</td>\n",
       "      <td>1.0</td>\n",
       "      <td>1.0</td>\n",
       "      <td>...</td>\n",
       "      <td>0.0</td>\n",
       "      <td>0.0</td>\n",
       "      <td>0.0</td>\n",
       "      <td>1.0</td>\n",
       "      <td>1.0</td>\n",
       "      <td>1.0</td>\n",
       "      <td>1.0</td>\n",
       "      <td>0.0</td>\n",
       "      <td>0.0</td>\n",
       "      <td>1.0</td>\n",
       "    </tr>\n",
       "    <tr>\n",
       "      <th>62698</th>\n",
       "      <td>0.0</td>\n",
       "      <td>1.0</td>\n",
       "      <td>0.0</td>\n",
       "      <td>1.0</td>\n",
       "      <td>0.0</td>\n",
       "      <td>0.0</td>\n",
       "      <td>1.0</td>\n",
       "      <td>1.0</td>\n",
       "      <td>1.0</td>\n",
       "      <td>0.0</td>\n",
       "      <td>...</td>\n",
       "      <td>1.0</td>\n",
       "      <td>0.0</td>\n",
       "      <td>0.0</td>\n",
       "      <td>1.0</td>\n",
       "      <td>1.0</td>\n",
       "      <td>0.0</td>\n",
       "      <td>0.0</td>\n",
       "      <td>1.0</td>\n",
       "      <td>1.0</td>\n",
       "      <td>1.0</td>\n",
       "    </tr>\n",
       "    <tr>\n",
       "      <th>62699</th>\n",
       "      <td>0.0</td>\n",
       "      <td>1.0</td>\n",
       "      <td>0.0</td>\n",
       "      <td>1.0</td>\n",
       "      <td>0.0</td>\n",
       "      <td>0.0</td>\n",
       "      <td>0.0</td>\n",
       "      <td>0.0</td>\n",
       "      <td>1.0</td>\n",
       "      <td>1.0</td>\n",
       "      <td>...</td>\n",
       "      <td>0.0</td>\n",
       "      <td>0.0</td>\n",
       "      <td>0.0</td>\n",
       "      <td>1.0</td>\n",
       "      <td>1.0</td>\n",
       "      <td>1.0</td>\n",
       "      <td>1.0</td>\n",
       "      <td>0.0</td>\n",
       "      <td>0.0</td>\n",
       "      <td>1.0</td>\n",
       "    </tr>\n",
       "  </tbody>\n",
       "</table>\n",
       "<p>62700 rows × 21 columns</p>\n",
       "</div>"
      ],
      "text/plain": [
       "       cases  school  domestic  travel  travel_dom  curf  mass  elect  sport  \\\n",
       "0        0.0     0.0       0.0     0.0         0.0   0.0   0.0    0.0    0.0   \n",
       "1        0.0     0.0       0.0     0.0         0.0   0.0   0.0    0.0    0.0   \n",
       "2        0.0     0.0       0.0     0.0         0.0   0.0   0.0    0.0    0.0   \n",
       "3        0.0     0.0       0.0     0.0         0.0   0.0   0.0    0.0    0.0   \n",
       "4        0.0     0.0       0.0     0.0         0.0   0.0   0.0    0.0    0.0   \n",
       "...      ...     ...       ...     ...         ...   ...   ...    ...    ...   \n",
       "62695    0.0     1.0       0.0     1.0         0.0   0.0   1.0    1.0    1.0   \n",
       "62696    0.0     1.0       0.0     1.0         0.0   0.0   1.0    1.0    1.0   \n",
       "62697    0.0     1.0       0.0     1.0         0.0   0.0   0.0    0.0    1.0   \n",
       "62698    0.0     1.0       0.0     1.0         0.0   0.0   1.0    1.0    1.0   \n",
       "62699    0.0     1.0       0.0     1.0         0.0   0.0   0.0    0.0    1.0   \n",
       "\n",
       "       rest  ...  masks  surveillance  state  cash  wage  credit  taxc  taxd  \\\n",
       "0       0.0  ...    0.0           0.0    0.0   0.0   0.0     0.0   0.0   0.0   \n",
       "1       0.0  ...    0.0           0.0    0.0   0.0   0.0     0.0   0.0   0.0   \n",
       "2       0.0  ...    0.0           0.0    0.0   0.0   0.0     0.0   0.0   0.0   \n",
       "3       0.0  ...    0.0           0.0    0.0   0.0   0.0     0.0   0.0   0.0   \n",
       "4       0.0  ...    0.0           0.0    0.0   0.0   0.0     0.0   0.0   0.0   \n",
       "...     ...  ...    ...           ...    ...   ...   ...     ...   ...   ...   \n",
       "62695   0.0  ...    1.0           0.0    0.0   1.0   1.0     0.0   0.0   1.0   \n",
       "62696   0.0  ...    1.0           0.0    0.0   1.0   1.0     0.0   0.0   1.0   \n",
       "62697   1.0  ...    0.0           0.0    0.0   1.0   1.0     1.0   1.0   0.0   \n",
       "62698   0.0  ...    1.0           0.0    0.0   1.0   1.0     0.0   0.0   1.0   \n",
       "62699   1.0  ...    0.0           0.0    0.0   1.0   1.0     1.0   1.0   0.0   \n",
       "\n",
       "       export  rate  \n",
       "0         0.0   0.0  \n",
       "1         0.0   0.0  \n",
       "2         0.0   0.0  \n",
       "3         0.0   0.0  \n",
       "4         0.0   0.0  \n",
       "...       ...   ...  \n",
       "62695     1.0   1.0  \n",
       "62696     1.0   1.0  \n",
       "62697     0.0   1.0  \n",
       "62698     1.0   1.0  \n",
       "62699     0.0   1.0  \n",
       "\n",
       "[62700 rows x 21 columns]"
      ]
     },
     "execution_count": 125,
     "metadata": {},
     "output_type": "execute_result"
    }
   ],
   "source": [
    "df1=df1.replace(np.nan, 0)\n",
    "df1=df1.drop('geoid', axis=1)\n",
    "df1=df1.drop('iso', axis=1)\n",
    "df1=df1.drop('country', axis=1)\n",
    "df1=df1.drop('continent', axis=1)\n",
    "df1=df1.drop('d', axis=1)\n",
    "df1=df1.drop('deaths', axis=1)\n",
    "df1=df1.drop('population_2019', axis=1)\n",
    "df1=df1.drop('school_local', axis=1)\n",
    "df1=df1.drop('domestic_local', axis=1)\n",
    "df1=df1.drop('travel_partial', axis=1)\n",
    "df1=df1.drop('travel_dom_partial', axis=1)\n",
    "df1=df1.drop('curf_partial', axis=1)\n",
    "df1=df1.drop('mass_partial', axis=1)\n",
    "df1=df1.drop('elect_partial', axis=1)\n",
    "df1=df1.drop('sport_partial', axis=1)\n",
    "df1=df1.drop('rest_local', axis=1)\n",
    "df1=df1.drop('testing_narrow', axis=1)\n",
    "df1=df1.drop('masks_partial', axis=1)\n",
    "df1=df1.drop('surveillance_partial', axis=1)\n",
    "df1=df1.drop('state_partial', axis=1)\n",
    "df1=df1.drop('Rigidity_Public_Health', axis=1)\n",
    "df1=df1.drop('Economic_Measures', axis=1)\n",
    "df1"
   ]
  },
  {
   "cell_type": "markdown",
   "metadata": {},
   "source": [
    "The model will be determining whether cases of the virus were present.  Makes all values where cases were above 0 into 1. "
   ]
  },
  {
   "cell_type": "code",
   "execution_count": 127,
   "metadata": {},
   "outputs": [],
   "source": [
    "df1['cases']=df1['cases'][df1['cases'] > 0] = 1"
   ]
  },
  {
   "cell_type": "markdown",
   "metadata": {},
   "source": [
    "# Data Exploration"
   ]
  },
  {
   "cell_type": "markdown",
   "metadata": {},
   "source": [
    "There is no class imbalance. "
   ]
  },
  {
   "cell_type": "code",
   "execution_count": 128,
   "metadata": {},
   "outputs": [
    {
     "data": {
      "text/plain": [
       "(array([0, 1]), [Text(0, 0, '0.0'), Text(1, 0, '1.0')])"
      ]
     },
     "execution_count": 128,
     "metadata": {},
     "output_type": "execute_result"
    },
    {
     "data": {
      "image/png": "[encoded data removed]",
      "text/plain": [
       "<Figure size 432x288 with 1 Axes>"
      ]
     },
     "metadata": {
      "needs_background": "light"
     },
     "output_type": "display_data"
    }
   ],
   "source": [
    "sns.countplot(y_train, palette='Set3')\n",
    "plt.xticks(rotation=90)"
   ]
  },
  {
   "cell_type": "markdown",
   "metadata": {},
   "source": [
    "# Government Regulation Features"
   ]
  },
  {
   "cell_type": "markdown",
   "metadata": {},
   "source": [
    "The Governments' responses to COVID19 are the measures implemented by governments worldwide in response to the Coronavirus pandemic. There are two types of measures: public health measures and economic measures. .  \n",
    "The variables are :\n",
    "\n",
    "- cases: binary variable equal to 1 if there were cases of SARS-CoV-2 and 0 otherwise;\n",
    "- school: binary variable equal to 1 if schools were closed and 0 otherwise;\n",
    "- domestic: binary variable equal to 1 if there was a domestic lockdown and 0 otherwise;\n",
    "- travel: binary variable equal to 1 if travel restrictions were implemented and 0 otherwise;\n",
    "- travel_dom: binary variable equal to 1 if travel restrictions within the country  (e.g. inter-region travels) were implemented and 0 otherwise;\n",
    "- curf: binary variable equal to 1 if a curfew was implemented and 0 otherwise;\n",
    "- mass: binary variable equal to 1 if bans on mass gatherings were implemented and 0 otherwise;\n",
    "- elect: binary variable equal to 1 if some elections were postponed and 0 otherwise;\n",
    "- sport: binary variable equal to 1 if bans on sporting and large events were implemented and 0 otherwise;\n",
    "- rest: binary variable equal to 1 if restaurants were closed and 0 otherwise;\n",
    "- testing: binary variable equal to 1 if there was a public testing policy and 0 otherwise;\n",
    "- surveillance: binary variable equal to 1 if mobile app or bracelet surveillance was implemented and 0 otherwise;\n",
    "- masks binary variable equal to 1 if the obligationsto wear masks in public spaces was implemented and 0 otherwise;\n",
    "- state: binary variable equal to 1 if the state of emergency is declared and 0 otherwise;\n",
    "- cash: binary variable equal to 1 if cash transfers are implemented and 0 otherwise;\n",
    "- wage: binary variable equal to 1 if wage support is implemented and 0 otherwise;\n",
    "- credit: binary variable equal to 1 if credit schemes are implemented and 0 otherwise;\n",
    "- taxc: binary variable equal to 1 if tax credits are implemented and 0 otherwise;\n",
    "- taxd: binary variable equal to 1 if tax delays are implemented and 0 otherwise;\n",
    "- export: binary variable equal to 1 if supports to importers or exporters are implemented and 0 otherwise;\n",
    "- rate: binary variable equal to 1 if the Central Bank lowered the interest rates and 0 otherwise;"
   ]
  },
  {
   "cell_type": "markdown",
   "metadata": {},
   "source": [
    "# Feature Engineering"
   ]
  },
  {
   "cell_type": "markdown",
   "metadata": {},
   "source": [
    "Makes the dependent variable y be the cases and the independent variables X be the government regulations.  Then, splits data, 80/20, into a train test split.  "
   ]
  },
  {
   "cell_type": "code",
   "execution_count": 129,
   "metadata": {},
   "outputs": [],
   "source": [
    "y=df1[('cases')]\n",
    "X=df1.drop(['cases'], axis=1)\n",
    "\n",
    "X_train, X_test, y_train, y_test = train_test_split(X, y, test_size=0.2, random_state=42)"
   ]
  },
  {
   "cell_type": "markdown",
   "metadata": {},
   "source": [
    "Binary logistic regression assumsions are a binary dependent variable, independent observations, linear continuous variables, no strongly influential outliers, independent variables with no multicollinearity, and and a large sample size.  The dependent variable is zero or one, the observations are not repeated measurements made on each experimental unit or matched -- when pairs of data are matched based on similar features, there are no continuous variables, the data are zeros and ones so there are no outliers, and the data has 50160 rows. "
   ]
  },
  {
   "cell_type": "markdown",
   "metadata": {},
   "source": [
    "Check for muticollinearity.  "
   ]
  },
  {
   "cell_type": "code",
   "execution_count": 25,
   "metadata": {},
   "outputs": [
    {
     "data": {
      "text/plain": [
       "<AxesSubplot:>"
      ]
     },
     "execution_count": 25,
     "metadata": {},
     "output_type": "execute_result"
    },
    {
     "data": {
      "image/png": "[encoded data removed]",
      "text/plain": [
       "<Figure size 1440x1440 with 2 Axes>"
      ]
     },
     "metadata": {
      "needs_background": "light"
     },
     "output_type": "display_data"
    }
   ],
   "source": [
    "x_corr=X_train.corr(method='pearson')\n",
    "plt.figure(figsize=[20, 20])\n",
    "sns.heatmap(x_corr)"
   ]
  },
  {
   "cell_type": "code",
   "execution_count": 26,
   "metadata": {},
   "outputs": [
    {
     "data": {
      "text/plain": [
       "[('school', 'school', 1.0),\n",
       " ('domestic', 'domestic', 0.9999999999999999),\n",
       " ('travel', 'travel', 1.0),\n",
       " ('travel_dom', 'travel_dom', 0.9999999999999999),\n",
       " ('curf', 'curf', 1.0),\n",
       " ('mass', 'mass', 0.9999999999999999),\n",
       " ('mass', 'sport', 0.7186910509080194),\n",
       " ('elect', 'elect', 1.0),\n",
       " ('sport', 'mass', 0.7186910509080194),\n",
       " ('sport', 'sport', 1.0),\n",
       " ('rest', 'rest', 1.0),\n",
       " ('testing', 'testing', 1.0),\n",
       " ('masks', 'masks', 1.0),\n",
       " ('surveillance', 'surveillance', 1.0),\n",
       " ('state', 'state', 1.0),\n",
       " ('cash', 'cash', 1.0),\n",
       " ('wage', 'wage', 1.0),\n",
       " ('credit', 'credit', 1.0),\n",
       " ('taxc', 'taxc', 1.0),\n",
       " ('taxd', 'taxd', 1.0),\n",
       " ('export', 'export', 1.0),\n",
       " ('rate', 'rate', 1.0)]"
      ]
     },
     "execution_count": 26,
     "metadata": {},
     "output_type": "execute_result"
    }
   ],
   "source": [
    "correlation=[]\n",
    "for columnName1, columnData1 in X_train.iteritems():\n",
    "    for columnName2, columnData2 in X_train.iteritems():\n",
    "        if abs(columnData1.corr(columnData2)) > .7:\n",
    "            correlation.append((columnName1, columnName2, abs(columnData1.corr(columnData2))))\n",
    "correlation"
   ]
  },
  {
   "cell_type": "markdown",
   "metadata": {},
   "source": [
    "Remove multicollinear feature from X."
   ]
  },
  {
   "cell_type": "code",
   "execution_count": null,
   "metadata": {},
   "outputs": [],
   "source": [
    "X_train=X_train.drop('sport', axis=1)\n",
    "X_test=X_test.drop('sport', axis=1)"
   ]
  },
  {
   "cell_type": "markdown",
   "metadata": {},
   "source": [
    "# Logistic Regression Model"
   ]
  },
  {
   "cell_type": "markdown",
   "metadata": {},
   "source": [
    "The Logistic function, logit(P), starts with setting the log odds equal to the parameters.  Exponentiate both sides of the equation and cross multiply 1-P to get the logistic function. "
   ]
  },
  {
   "cell_type": "markdown",
   "metadata": {},
   "source": [
    "$$ ln(\\frac{P}{1-P})=α+βx $$"
   ]
  },
  {
   "cell_type": "markdown",
   "metadata": {},
   "source": [
    "$$ \\frac{P}{1-P}=e^{α+βx} $$"
   ]
  },
  {
   "cell_type": "markdown",
   "metadata": {},
   "source": [
    "$$ P=\\frac{e^{α+βx}}{1+e^{α+βx}} $$"
   ]
  },
  {
   "cell_type": "markdown",
   "metadata": {},
   "source": [
    "The probability of class 1 is the logistic function and of class 0 is one minus the logistic function."
   ]
  },
  {
   "cell_type": "markdown",
   "metadata": {},
   "source": [
    "$$ P(Class=1|X=x)=\\frac{e^{α+βx}}{1+e^{α+βx}} $$"
   ]
  },
  {
   "cell_type": "markdown",
   "metadata": {},
   "source": [
    "$$ P(Class=0|X=x)=1-\\frac{e^{α+βx}}{1+e^{α+βx}} $$"
   ]
  },
  {
   "cell_type": "markdown",
   "metadata": {},
   "source": [
    "Take the inverse of P to get the desired sigmoid function."
   ]
  },
  {
   "cell_type": "markdown",
   "metadata": {},
   "source": [
    "$$ σ(x)=P^{-1}=\\frac{1}{1+e^{-(α+βx)}} $$"
   ]
  },
  {
   "cell_type": "code",
   "execution_count": 27,
   "metadata": {},
   "outputs": [
    {
     "data": {
      "image/png": "[encoded data removed]",
      "text/plain": [
       "<IPython.core.display.Image object>"
      ]
     },
     "execution_count": 27,
     "metadata": {},
     "output_type": "execute_result"
    }
   ],
   "source": [
    "Image(filename='sigmoid_function.png') "
   ]
  },
  {
   "cell_type": "markdown",
   "metadata": {},
   "source": [
    "The predicted labels are binary so each label is a Bernoulli random variable from a Bernoulli probability mass function."
   ]
  },
  {
   "cell_type": "markdown",
   "metadata": {},
   "source": [
    "$$ P(x;p)= \\left\\{\\begin{array}{}\n",
    "p & : x = 1\\\\\n",
    "1-p & : x = 0\n",
    "\\end{array}\n",
    "\\right.$$"
   ]
  },
  {
   "cell_type": "code",
   "execution_count": 28,
   "metadata": {},
   "outputs": [
    {
     "data": {
      "image/png": "[encoded data removed]",
      "text/plain": [
       "<IPython.core.display.Image object>"
      ]
     },
     "execution_count": 28,
     "metadata": {},
     "output_type": "execute_result"
    }
   ],
   "source": [
    "Image(filename='bernoulli(p) color.png')"
   ]
  },
  {
   "cell_type": "markdown",
   "metadata": {},
   "source": [
    "MLE, maximum likelihood estimation, finds the parameters, θ, that maximize the log likelihood probability, a model comparitive metric, that a value belongs to a class.  "
   ]
  },
  {
   "cell_type": "markdown",
   "metadata": {},
   "source": [
    "$$ MLE=∏_{i}^{N}P(Y=y_{i}|X=x_{i}) $$"
   ]
  },
  {
   "cell_type": "markdown",
   "metadata": {},
   "source": [
    "$$ argmax LL(θ)=∑_{i}^{N}y_{i}*log(σ(θ^{T}*𝑥_{i}))+(1-y_{i})*log(1-σ(θ^{T}*𝑥_{i})) $$"
   ]
  },
  {
   "cell_type": "markdown",
   "metadata": {},
   "source": [
    "Solve for θ that maximizes the the log likelihood by solving for the partial derivative of the log likelihood with respect to θ and gradiently accend toward the maximum of the LL function."
   ]
  },
  {
   "cell_type": "markdown",
   "metadata": {},
   "source": [
    "$$ ∇\\frac{∂LL(θ)}{∂θ_{j}}=∑_{i}^{N}[y_{i}-θ^{T}*𝑥_{i}]x_{ij} $$"
   ]
  },
  {
   "cell_type": "markdown",
   "metadata": {},
   "source": [
    "Iteratively accend toward maximum LL with an η stepsize."
   ]
  },
  {
   "cell_type": "markdown",
   "metadata": {},
   "source": [
    "$$  θ^{new}_{j}=θ^{previous}_{j}+η*∇\\frac{∂LL(θ^{previous})}{∂θ^{previous}_{j}} $$"
   ]
  },
  {
   "cell_type": "markdown",
   "metadata": {},
   "source": [
    "The McFadden R squared, a model comparitive metric, is 1 minus the log likelihood of the full model, which is like the sum of squared residuals, devided by the log likelihood of the intercept model, which is like the total sum of squares."
   ]
  },
  {
   "cell_type": "markdown",
   "metadata": {},
   "source": [
    "$$ R^{2}_{McF}=1-\\frac{lnL(M_{full})}{lnL(M_{int})} $$"
   ]
  },
  {
   "cell_type": "markdown",
   "metadata": {},
   "source": [
    "Conduct logistic regression model from statsmodels for regression results."
   ]
  },
  {
   "cell_type": "code",
   "execution_count": 29,
   "metadata": {},
   "outputs": [
    {
     "name": "stdout",
     "output_type": "stream",
     "text": [
      "Optimization terminated successfully.\n",
      "         Current function value: 0.572517\n",
      "         Iterations 6\n"
     ]
    },
    {
     "data": {
      "text/html": [
       "<table class=\"simpletable\">\n",
       "<caption>Logit Regression Results</caption>\n",
       "<tr>\n",
       "  <th>Dep. Variable:</th>         <td>cases</td>      <th>  No. Observations:  </th>  <td> 50160</td> \n",
       "</tr>\n",
       "<tr>\n",
       "  <th>Model:</th>                 <td>Logit</td>      <th>  Df Residuals:      </th>  <td> 50140</td> \n",
       "</tr>\n",
       "<tr>\n",
       "  <th>Method:</th>                 <td>MLE</td>       <th>  Df Model:          </th>  <td>    19</td> \n",
       "</tr>\n",
       "<tr>\n",
       "  <th>Date:</th>            <td>Tue, 23 Mar 2021</td> <th>  Pseudo R-squ.:     </th>  <td>0.1738</td> \n",
       "</tr>\n",
       "<tr>\n",
       "  <th>Time:</th>                <td>17:29:15</td>     <th>  Log-Likelihood:    </th> <td> -28717.</td>\n",
       "</tr>\n",
       "<tr>\n",
       "  <th>converged:</th>             <td>True</td>       <th>  LL-Null:           </th> <td> -34758.</td>\n",
       "</tr>\n",
       "<tr>\n",
       "  <th>Covariance Type:</th>     <td>nonrobust</td>    <th>  LLR p-value:       </th>  <td> 0.000</td> \n",
       "</tr>\n",
       "</table>\n",
       "<table class=\"simpletable\">\n",
       "<tr>\n",
       "        <td></td>          <th>coef</th>     <th>std err</th>      <th>z</th>      <th>P>|z|</th>  <th>[0.025</th>    <th>0.975]</th>  \n",
       "</tr>\n",
       "<tr>\n",
       "  <th>school</th>       <td>   -0.2966</td> <td>    0.025</td> <td>  -11.709</td> <td> 0.000</td> <td>   -0.346</td> <td>   -0.247</td>\n",
       "</tr>\n",
       "<tr>\n",
       "  <th>domestic</th>     <td>    0.5533</td> <td>    0.036</td> <td>   15.454</td> <td> 0.000</td> <td>    0.483</td> <td>    0.623</td>\n",
       "</tr>\n",
       "<tr>\n",
       "  <th>travel</th>       <td>   -0.5380</td> <td>    0.032</td> <td>  -16.877</td> <td> 0.000</td> <td>   -0.601</td> <td>   -0.476</td>\n",
       "</tr>\n",
       "<tr>\n",
       "  <th>travel_dom</th>   <td>    0.1094</td> <td>    0.033</td> <td>    3.285</td> <td> 0.001</td> <td>    0.044</td> <td>    0.175</td>\n",
       "</tr>\n",
       "<tr>\n",
       "  <th>curf</th>         <td>    0.1600</td> <td>    0.032</td> <td>    4.994</td> <td> 0.000</td> <td>    0.097</td> <td>    0.223</td>\n",
       "</tr>\n",
       "<tr>\n",
       "  <th>mass</th>         <td>    0.3283</td> <td>    0.035</td> <td>    9.252</td> <td> 0.000</td> <td>    0.259</td> <td>    0.398</td>\n",
       "</tr>\n",
       "<tr>\n",
       "  <th>elect</th>        <td>    0.5081</td> <td>    0.033</td> <td>   15.629</td> <td> 0.000</td> <td>    0.444</td> <td>    0.572</td>\n",
       "</tr>\n",
       "<tr>\n",
       "  <th>sport</th>        <td>    0.1457</td> <td>    0.034</td> <td>    4.280</td> <td> 0.000</td> <td>    0.079</td> <td>    0.212</td>\n",
       "</tr>\n",
       "<tr>\n",
       "  <th>rest</th>         <td>    0.4066</td> <td>    0.031</td> <td>   13.201</td> <td> 0.000</td> <td>    0.346</td> <td>    0.467</td>\n",
       "</tr>\n",
       "<tr>\n",
       "  <th>testing</th>      <td>   -0.0520</td> <td>    0.030</td> <td>   -1.718</td> <td> 0.086</td> <td>   -0.111</td> <td>    0.007</td>\n",
       "</tr>\n",
       "<tr>\n",
       "  <th>masks</th>        <td>    0.7603</td> <td>    0.030</td> <td>   24.965</td> <td> 0.000</td> <td>    0.701</td> <td>    0.820</td>\n",
       "</tr>\n",
       "<tr>\n",
       "  <th>surveillance</th> <td>    0.3923</td> <td>    0.041</td> <td>    9.499</td> <td> 0.000</td> <td>    0.311</td> <td>    0.473</td>\n",
       "</tr>\n",
       "<tr>\n",
       "  <th>state</th>        <td>   -0.1509</td> <td>    0.028</td> <td>   -5.367</td> <td> 0.000</td> <td>   -0.206</td> <td>   -0.096</td>\n",
       "</tr>\n",
       "<tr>\n",
       "  <th>cash</th>         <td>    0.7565</td> <td>    0.033</td> <td>   23.247</td> <td> 0.000</td> <td>    0.693</td> <td>    0.820</td>\n",
       "</tr>\n",
       "<tr>\n",
       "  <th>wage</th>         <td>   -0.0775</td> <td>    0.032</td> <td>   -2.410</td> <td> 0.016</td> <td>   -0.141</td> <td>   -0.014</td>\n",
       "</tr>\n",
       "<tr>\n",
       "  <th>credit</th>       <td>    0.0900</td> <td>    0.032</td> <td>    2.796</td> <td> 0.005</td> <td>    0.027</td> <td>    0.153</td>\n",
       "</tr>\n",
       "<tr>\n",
       "  <th>taxc</th>         <td>   -0.3755</td> <td>    0.029</td> <td>  -12.792</td> <td> 0.000</td> <td>   -0.433</td> <td>   -0.318</td>\n",
       "</tr>\n",
       "<tr>\n",
       "  <th>taxd</th>         <td>    0.4425</td> <td>    0.031</td> <td>   14.310</td> <td> 0.000</td> <td>    0.382</td> <td>    0.503</td>\n",
       "</tr>\n",
       "<tr>\n",
       "  <th>export</th>       <td>    0.1836</td> <td>    0.036</td> <td>    5.131</td> <td> 0.000</td> <td>    0.113</td> <td>    0.254</td>\n",
       "</tr>\n",
       "<tr>\n",
       "  <th>rate</th>         <td>   -0.0836</td> <td>    0.030</td> <td>   -2.809</td> <td> 0.005</td> <td>   -0.142</td> <td>   -0.025</td>\n",
       "</tr>\n",
       "</table>"
      ],
      "text/plain": [
       "<class 'statsmodels.iolib.summary.Summary'>\n",
       "\"\"\"\n",
       "                           Logit Regression Results                           \n",
       "==============================================================================\n",
       "Dep. Variable:                  cases   No. Observations:                50160\n",
       "Model:                          Logit   Df Residuals:                    50140\n",
       "Method:                           MLE   Df Model:                           19\n",
       "Date:                Tue, 23 Mar 2021   Pseudo R-squ.:                  0.1738\n",
       "Time:                        17:29:15   Log-Likelihood:                -28717.\n",
       "converged:                       True   LL-Null:                       -34758.\n",
       "Covariance Type:            nonrobust   LLR p-value:                     0.000\n",
       "================================================================================\n",
       "                   coef    std err          z      P>|z|      [0.025      0.975]\n",
       "--------------------------------------------------------------------------------\n",
       "school          -0.2966      0.025    -11.709      0.000      -0.346      -0.247\n",
       "domestic         0.5533      0.036     15.454      0.000       0.483       0.623\n",
       "travel          -0.5380      0.032    -16.877      0.000      -0.601      -0.476\n",
       "travel_dom       0.1094      0.033      3.285      0.001       0.044       0.175\n",
       "curf             0.1600      0.032      4.994      0.000       0.097       0.223\n",
       "mass             0.3283      0.035      9.252      0.000       0.259       0.398\n",
       "elect            0.5081      0.033     15.629      0.000       0.444       0.572\n",
       "sport            0.1457      0.034      4.280      0.000       0.079       0.212\n",
       "rest             0.4066      0.031     13.201      0.000       0.346       0.467\n",
       "testing         -0.0520      0.030     -1.718      0.086      -0.111       0.007\n",
       "masks            0.7603      0.030     24.965      0.000       0.701       0.820\n",
       "surveillance     0.3923      0.041      9.499      0.000       0.311       0.473\n",
       "state           -0.1509      0.028     -5.367      0.000      -0.206      -0.096\n",
       "cash             0.7565      0.033     23.247      0.000       0.693       0.820\n",
       "wage            -0.0775      0.032     -2.410      0.016      -0.141      -0.014\n",
       "credit           0.0900      0.032      2.796      0.005       0.027       0.153\n",
       "taxc            -0.3755      0.029    -12.792      0.000      -0.433      -0.318\n",
       "taxd             0.4425      0.031     14.310      0.000       0.382       0.503\n",
       "export           0.1836      0.036      5.131      0.000       0.113       0.254\n",
       "rate            -0.0836      0.030     -2.809      0.005      -0.142      -0.025\n",
       "================================================================================\n",
       "\"\"\""
      ]
     },
     "execution_count": 29,
     "metadata": {},
     "output_type": "execute_result"
    }
   ],
   "source": [
    "log_reg = sm.Logit(y_train, X_train).fit() \n",
    "log_reg.summary()"
   ]
  },
  {
   "cell_type": "markdown",
   "metadata": {},
   "source": [
    "Remove statistically insignificant feature."
   ]
  },
  {
   "cell_type": "code",
   "execution_count": 31,
   "metadata": {},
   "outputs": [],
   "source": [
    "X_train=X_train.drop('testing', axis=1)"
   ]
  },
  {
   "cell_type": "code",
   "execution_count": 32,
   "metadata": {},
   "outputs": [
    {
     "name": "stdout",
     "output_type": "stream",
     "text": [
      "Optimization terminated successfully.\n",
      "         Current function value: 0.572547\n",
      "         Iterations 6\n"
     ]
    },
    {
     "data": {
      "text/html": [
       "<table class=\"simpletable\">\n",
       "<caption>Logit Regression Results</caption>\n",
       "<tr>\n",
       "  <th>Dep. Variable:</th>         <td>cases</td>      <th>  No. Observations:  </th>  <td> 50160</td> \n",
       "</tr>\n",
       "<tr>\n",
       "  <th>Model:</th>                 <td>Logit</td>      <th>  Df Residuals:      </th>  <td> 50141</td> \n",
       "</tr>\n",
       "<tr>\n",
       "  <th>Method:</th>                 <td>MLE</td>       <th>  Df Model:          </th>  <td>    18</td> \n",
       "</tr>\n",
       "<tr>\n",
       "  <th>Date:</th>            <td>Tue, 23 Mar 2021</td> <th>  Pseudo R-squ.:     </th>  <td>0.1737</td> \n",
       "</tr>\n",
       "<tr>\n",
       "  <th>Time:</th>                <td>17:30:49</td>     <th>  Log-Likelihood:    </th> <td> -28719.</td>\n",
       "</tr>\n",
       "<tr>\n",
       "  <th>converged:</th>             <td>True</td>       <th>  LL-Null:           </th> <td> -34758.</td>\n",
       "</tr>\n",
       "<tr>\n",
       "  <th>Covariance Type:</th>     <td>nonrobust</td>    <th>  LLR p-value:       </th>  <td> 0.000</td> \n",
       "</tr>\n",
       "</table>\n",
       "<table class=\"simpletable\">\n",
       "<tr>\n",
       "        <td></td>          <th>coef</th>     <th>std err</th>      <th>z</th>      <th>P>|z|</th>  <th>[0.025</th>    <th>0.975]</th>  \n",
       "</tr>\n",
       "<tr>\n",
       "  <th>school</th>       <td>   -0.2940</td> <td>    0.025</td> <td>  -11.625</td> <td> 0.000</td> <td>   -0.344</td> <td>   -0.244</td>\n",
       "</tr>\n",
       "<tr>\n",
       "  <th>domestic</th>     <td>    0.5552</td> <td>    0.036</td> <td>   15.518</td> <td> 0.000</td> <td>    0.485</td> <td>    0.625</td>\n",
       "</tr>\n",
       "<tr>\n",
       "  <th>travel</th>       <td>   -0.5417</td> <td>    0.032</td> <td>  -17.017</td> <td> 0.000</td> <td>   -0.604</td> <td>   -0.479</td>\n",
       "</tr>\n",
       "<tr>\n",
       "  <th>travel_dom</th>   <td>    0.1073</td> <td>    0.033</td> <td>    3.226</td> <td> 0.001</td> <td>    0.042</td> <td>    0.173</td>\n",
       "</tr>\n",
       "<tr>\n",
       "  <th>curf</th>         <td>    0.1619</td> <td>    0.032</td> <td>    5.057</td> <td> 0.000</td> <td>    0.099</td> <td>    0.225</td>\n",
       "</tr>\n",
       "<tr>\n",
       "  <th>mass</th>         <td>    0.3236</td> <td>    0.035</td> <td>    9.146</td> <td> 0.000</td> <td>    0.254</td> <td>    0.393</td>\n",
       "</tr>\n",
       "<tr>\n",
       "  <th>elect</th>        <td>    0.5072</td> <td>    0.032</td> <td>   15.606</td> <td> 0.000</td> <td>    0.443</td> <td>    0.571</td>\n",
       "</tr>\n",
       "<tr>\n",
       "  <th>sport</th>        <td>    0.1403</td> <td>    0.034</td> <td>    4.137</td> <td> 0.000</td> <td>    0.074</td> <td>    0.207</td>\n",
       "</tr>\n",
       "<tr>\n",
       "  <th>rest</th>         <td>    0.4030</td> <td>    0.031</td> <td>   13.109</td> <td> 0.000</td> <td>    0.343</td> <td>    0.463</td>\n",
       "</tr>\n",
       "<tr>\n",
       "  <th>masks</th>        <td>    0.7515</td> <td>    0.030</td> <td>   25.031</td> <td> 0.000</td> <td>    0.693</td> <td>    0.810</td>\n",
       "</tr>\n",
       "<tr>\n",
       "  <th>surveillance</th> <td>    0.3802</td> <td>    0.041</td> <td>    9.341</td> <td> 0.000</td> <td>    0.300</td> <td>    0.460</td>\n",
       "</tr>\n",
       "<tr>\n",
       "  <th>state</th>        <td>   -0.1474</td> <td>    0.028</td> <td>   -5.255</td> <td> 0.000</td> <td>   -0.202</td> <td>   -0.092</td>\n",
       "</tr>\n",
       "<tr>\n",
       "  <th>cash</th>         <td>    0.7581</td> <td>    0.033</td> <td>   23.305</td> <td> 0.000</td> <td>    0.694</td> <td>    0.822</td>\n",
       "</tr>\n",
       "<tr>\n",
       "  <th>wage</th>         <td>   -0.0819</td> <td>    0.032</td> <td>   -2.555</td> <td> 0.011</td> <td>   -0.145</td> <td>   -0.019</td>\n",
       "</tr>\n",
       "<tr>\n",
       "  <th>credit</th>       <td>    0.0879</td> <td>    0.032</td> <td>    2.733</td> <td> 0.006</td> <td>    0.025</td> <td>    0.151</td>\n",
       "</tr>\n",
       "<tr>\n",
       "  <th>taxc</th>         <td>   -0.3738</td> <td>    0.029</td> <td>  -12.740</td> <td> 0.000</td> <td>   -0.431</td> <td>   -0.316</td>\n",
       "</tr>\n",
       "<tr>\n",
       "  <th>taxd</th>         <td>    0.4360</td> <td>    0.031</td> <td>   14.210</td> <td> 0.000</td> <td>    0.376</td> <td>    0.496</td>\n",
       "</tr>\n",
       "<tr>\n",
       "  <th>export</th>       <td>    0.1784</td> <td>    0.036</td> <td>    5.006</td> <td> 0.000</td> <td>    0.109</td> <td>    0.248</td>\n",
       "</tr>\n",
       "<tr>\n",
       "  <th>rate</th>         <td>   -0.0819</td> <td>    0.030</td> <td>   -2.756</td> <td> 0.006</td> <td>   -0.140</td> <td>   -0.024</td>\n",
       "</tr>\n",
       "</table>"
      ],
      "text/plain": [
       "<class 'statsmodels.iolib.summary.Summary'>\n",
       "\"\"\"\n",
       "                           Logit Regression Results                           \n",
       "==============================================================================\n",
       "Dep. Variable:                  cases   No. Observations:                50160\n",
       "Model:                          Logit   Df Residuals:                    50141\n",
       "Method:                           MLE   Df Model:                           18\n",
       "Date:                Tue, 23 Mar 2021   Pseudo R-squ.:                  0.1737\n",
       "Time:                        17:30:49   Log-Likelihood:                -28719.\n",
       "converged:                       True   LL-Null:                       -34758.\n",
       "Covariance Type:            nonrobust   LLR p-value:                     0.000\n",
       "================================================================================\n",
       "                   coef    std err          z      P>|z|      [0.025      0.975]\n",
       "--------------------------------------------------------------------------------\n",
       "school          -0.2940      0.025    -11.625      0.000      -0.344      -0.244\n",
       "domestic         0.5552      0.036     15.518      0.000       0.485       0.625\n",
       "travel          -0.5417      0.032    -17.017      0.000      -0.604      -0.479\n",
       "travel_dom       0.1073      0.033      3.226      0.001       0.042       0.173\n",
       "curf             0.1619      0.032      5.057      0.000       0.099       0.225\n",
       "mass             0.3236      0.035      9.146      0.000       0.254       0.393\n",
       "elect            0.5072      0.032     15.606      0.000       0.443       0.571\n",
       "sport            0.1403      0.034      4.137      0.000       0.074       0.207\n",
       "rest             0.4030      0.031     13.109      0.000       0.343       0.463\n",
       "masks            0.7515      0.030     25.031      0.000       0.693       0.810\n",
       "surveillance     0.3802      0.041      9.341      0.000       0.300       0.460\n",
       "state           -0.1474      0.028     -5.255      0.000      -0.202      -0.092\n",
       "cash             0.7581      0.033     23.305      0.000       0.694       0.822\n",
       "wage            -0.0819      0.032     -2.555      0.011      -0.145      -0.019\n",
       "credit           0.0879      0.032      2.733      0.006       0.025       0.151\n",
       "taxc            -0.3738      0.029    -12.740      0.000      -0.431      -0.316\n",
       "taxd             0.4360      0.031     14.210      0.000       0.376       0.496\n",
       "export           0.1784      0.036      5.006      0.000       0.109       0.248\n",
       "rate            -0.0819      0.030     -2.756      0.006      -0.140      -0.024\n",
       "================================================================================\n",
       "\"\"\""
      ]
     },
     "execution_count": 32,
     "metadata": {},
     "output_type": "execute_result"
    }
   ],
   "source": [
    "log_reg = sm.Logit(y_train, X_train)\n",
    "model=log_reg.fit()\n",
    "model.summary()"
   ]
  },
  {
   "cell_type": "markdown",
   "metadata": {},
   "source": [
    "The presence of the independent variables increases or decreases the log odds of the presence of the dependent variable based on the sign of the parameter coefficients.  The government regulations of school closures, travel restrictions, state of emergency declarations, wage support, tax credits, and interest rate lowering decreased the log odds of the presence of virus cases. "
   ]
  },
  {
   "cell_type": "markdown",
   "metadata": {},
   "source": [
    "Goodness-of-fit tests determine whether the predicted probabilities deviate from the observed probabilities. Deviance is the difference of likelihoods between the fitted model and the residuals.  0 predicted residuals are negative and 1 predicted residuals are positive.  μ̂i are the fitted values and yi are the observed values."
   ]
  },
  {
   "cell_type": "markdown",
   "metadata": {},
   "source": [
    "$$ Deviance Residuals=∑_{i}^{N}\\sqrt{2[yi*log(y_{i}/μ̂_{i})+(n_{i}−y_{i})*log(n_{i}−y_{i}/n_{i}-μ̂_{i})]} $$"
   ]
  },
  {
   "cell_type": "code",
   "execution_count": 33,
   "metadata": {},
   "outputs": [
    {
     "data": {
      "image/png": "[encoded data removed]",
      "text/plain": [
       "<Figure size 720x576 with 1 Axes>"
      ]
     },
     "metadata": {
      "needs_background": "light"
     },
     "output_type": "display_data"
    }
   ],
   "source": [
    "fig, ax = plt.subplots(1, figsize=(10, 8))\n",
    "sns.regplot(model.fittedvalues, model.resid_dev, ax= ax,\n",
    "            color=\"black\", scatter_kws={\"s\": 5},\n",
    "            line_kws={\"color\":\"b\", \"alpha\":1, \"lw\":2}, lowess=True)\n",
    "plt.title(\"Deviance Residuals \\n against Fitted Values\")\n",
    "plt.xlabel(\"Predictor Values\")\n",
    "plt.ylabel(\"Deviance Residuals\")\n",
    "plt.show()"
   ]
  },
  {
   "cell_type": "markdown",
   "metadata": {},
   "source": [
    "$$ Pearson Residuals= ∑_{i}^{N}\\frac{y_{i}−μ̂_{i}}{\\sqrt{μ̂_{i}(n_{i}−μ̂_{i})/n_{i}}} $$"
   ]
  },
  {
   "cell_type": "code",
   "execution_count": 34,
   "metadata": {},
   "outputs": [
    {
     "data": {
      "text/plain": [
       "Text(0, 0.5, 'Pearson Residuals')"
      ]
     },
     "execution_count": 34,
     "metadata": {},
     "output_type": "execute_result"
    },
    {
     "data": {
      "image/png": "[encoded data removed]",
      "text/plain": [
       "<Figure size 720x576 with 1 Axes>"
      ]
     },
     "metadata": {
      "needs_background": "light"
     },
     "output_type": "display_data"
    }
   ],
   "source": [
    "fig, ax = plt.subplots(1, figsize=(10, 8))\n",
    "sns.regplot(model.fittedvalues, model.resid_pearson, ax= ax,\n",
    "            color=\"black\", scatter_kws={\"s\": 5},\n",
    "            line_kws={\"color\":\"r\", \"alpha\":1, \"lw\":2}, lowess=True)\n",
    "\n",
    "plt.title(\"Pearson Residuals \\n against Fitted Values\")\n",
    "plt.xlabel(\"Predictor Values\")\n",
    "plt.ylabel(\"Pearson Residuals\")"
   ]
  },
  {
   "cell_type": "markdown",
   "metadata": {},
   "source": [
    "Pearson’s chi-squared test is a goodness-of-fit test that determines whether categorical observed values, O, are consistent with their coresponding expected values, E."
   ]
  },
  {
   "cell_type": "markdown",
   "metadata": {},
   "source": [
    "$$ χ2=∑_{i}^{N}\\frac{(O_{i}-E_{i})^2}{E_{i}} $$"
   ]
  },
  {
   "cell_type": "markdown",
   "metadata": {},
   "source": [
    "$$ E(x)=∑_{i}^{N}x_{i}*p(x_{i}) $$"
   ]
  },
  {
   "cell_type": "code",
   "execution_count": 43,
   "metadata": {},
   "outputs": [
    {
     "name": "stdout",
     "output_type": "stream",
     "text": [
      "Stat: -145098.9073862549 P-value: 1.0\n",
      "Don't reject null of no significant difference between the observed and the expected values.\n"
     ]
    }
   ],
   "source": [
    "stat, p = chisquare(model.resid_pearson)#Null Hypothesis: no significant difference between the observed and the expected values\n",
    "print('Stat:', stat, 'P-value:', p)\n",
    "alpha=.05\n",
    "if p>alpha:\n",
    "    print('Don\\'t reject null of no significant difference between the observed and the expected values.')\n",
    "else:\n",
    "    print('Reject null of no significant difference between the observed and the expected values.')"
   ]
  },
  {
   "cell_type": "markdown",
   "metadata": {},
   "source": [
    "Conduct logistic regression model from sklearn for classification results."
   ]
  },
  {
   "cell_type": "code",
   "execution_count": 44,
   "metadata": {},
   "outputs": [],
   "source": [
    "logistic_regression = LogisticRegression()\n",
    "logistic_regression.fit(X_train, y_train)\n",
    "y_hat_train = logistic_regression.predict(X_train)"
   ]
  },
  {
   "cell_type": "code",
   "execution_count": 45,
   "metadata": {},
   "outputs": [
    {
     "data": {
      "image/png": "[encoded data removed]",
      "text/plain": [
       "<IPython.core.display.Image object>"
      ]
     },
     "execution_count": 45,
     "metadata": {},
     "output_type": "execute_result"
    }
   ],
   "source": [
    "Image(filename='lr.png')"
   ]
  },
  {
   "cell_type": "markdown",
   "metadata": {},
   "source": [
    "For the train set, the model has 20765 true positives, 20242 true negatives, 4834 false positives, and 4319 false negatives."
   ]
  },
  {
   "cell_type": "code",
   "execution_count": 55,
   "metadata": {},
   "outputs": [
    {
     "name": "stdout",
     "output_type": "stream",
     "text": [
      "\n",
      "Confusion Matrix\n",
      "----------------\n",
      "       0      1\n",
      "0  20765   4834\n",
      "1   4319  20242\n"
     ]
    },
    {
     "data": {
      "image/png": "[encoded data removed]",
      "text/plain": [
       "<Figure size 288x288 with 2 Axes>"
      ]
     },
     "metadata": {},
     "output_type": "display_data"
    }
   ],
   "source": [
    "con_mat(y_train, y_hat_train)"
   ]
  },
  {
   "cell_type": "markdown",
   "metadata": {},
   "source": [
    "$$ precision = \\frac{TP}{TP+FP} $$"
   ]
  },
  {
   "cell_type": "markdown",
   "metadata": {},
   "source": [
    "$$ recall=\\frac{TP}{TP+FN} $$"
   ]
  },
  {
   "cell_type": "markdown",
   "metadata": {},
   "source": [
    "$$ f1=\\frac{2*precision*recall}{precision+recall} $$"
   ]
  },
  {
   "cell_type": "markdown",
   "metadata": {},
   "source": [
    "$$ accuracy=\\frac{TP+TN}{TP+FN+TN+FP} $$"
   ]
  },
  {
   "cell_type": "markdown",
   "metadata": {},
   "source": [
    "$$ specificity=\\frac{TN}{TN+FP} $$"
   ]
  },
  {
   "cell_type": "code",
   "execution_count": 49,
   "metadata": {},
   "outputs": [
    {
     "name": "stdout",
     "output_type": "stream",
     "text": [
      "Precision Score: 0.8072260328601053\n",
      "Recall Score: 0.8241521110703962\n",
      "F1 Score: 0.8156012651852449\n",
      "Accuracy Score: 0.817523923444976\n",
      "Specificity Score: 0.8278185297400733\n"
     ]
    },
    {
     "data": {
      "image/png": "[encoded data removed]",
      "text/plain": [
       "<Figure size 432x288 with 1 Axes>"
      ]
     },
     "metadata": {
      "needs_background": "light"
     },
     "output_type": "display_data"
    }
   ],
   "source": [
    "Metrics(y_train, y_hat_train)"
   ]
  },
  {
   "cell_type": "markdown",
   "metadata": {},
   "source": [
    "$$ True Positive Rate=\\frac{TP}{TP+FN} $$"
   ]
  },
  {
   "cell_type": "markdown",
   "metadata": {},
   "source": [
    "$$ False Positive Rate=\\frac{FP}{FP+TN} $$"
   ]
  },
  {
   "cell_type": "markdown",
   "metadata": {},
   "source": [
    "$$ Receiver Operating Characteristic=\\frac{TPR}{FPR} $$"
   ]
  },
  {
   "cell_type": "markdown",
   "metadata": {},
   "source": [
    "$$ Area Under Curve=∫_{a}^{b}TPR(FPR^{-1}(x))dx $$"
   ]
  },
  {
   "cell_type": "code",
   "execution_count": 60,
   "metadata": {},
   "outputs": [
    {
     "name": "stdout",
     "output_type": "stream",
     "text": [
      "AUC: 0.8176583048418117\n"
     ]
    },
    {
     "data": {
      "image/png": "[encoded data removed]",
      "text/plain": [
       "<Figure size 720x576 with 1 Axes>"
      ]
     },
     "metadata": {},
     "output_type": "display_data"
    }
   ],
   "source": [
    "roc(y_train, y_hat_train)"
   ]
  },
  {
   "cell_type": "markdown",
   "metadata": {},
   "source": [
    "The log loss, a cost function, is the cross entropy between the distribution of the true labels and the predictions.  Entropy measures unpredictability and cross entropy incorporates the entropy of the predicted distribution with of the true distribution.  The log loss multiplies -1 by the log likelihood to identify that lower scores are better, devides the result by the sample size, and reults in the mean loss. As the loss approaches 0, the probability of correct classification increases."
   ]
  },
  {
   "cell_type": "markdown",
   "metadata": {},
   "source": [
    "$$ Negative Log Loss=-\\frac{1}{N}∑_{i}^{N}y_{i}*log(σ(θ^{T}*𝑥_{i})+(1-y_{i})*log(1-σ(θ^{T}*𝑥_{i})) $$"
   ]
  },
  {
   "cell_type": "code",
   "execution_count": 51,
   "metadata": {},
   "outputs": [
    {
     "data": {
      "image/png": "[encoded data removed]",
      "text/plain": [
       "<IPython.core.display.Image object>"
      ]
     },
     "execution_count": 51,
     "metadata": {},
     "output_type": "execute_result"
    }
   ],
   "source": [
    "Image(filename='log_loss.png')"
   ]
  },
  {
   "cell_type": "code",
   "execution_count": 52,
   "metadata": {},
   "outputs": [
    {
     "name": "stdout",
     "output_type": "stream",
     "text": [
      "Mean Cross Validation of Cost Function\n",
      "Negative Log Loss Score: -0.42917685692963775\n"
     ]
    }
   ],
   "source": [
    "cv_score = cross_val_score(logistic_regression, X_train, y_train, cv=5, scoring='neg_log_loss')\n",
    "mean_cv_score = np.mean(cv_score)\n",
    "print('Mean Cross Validation of Cost Function')\n",
    "print(f\"Negative Log Loss Score: {mean_cv_score}\")"
   ]
  },
  {
   "cell_type": "markdown",
   "metadata": {},
   "source": [
    "Test model on test set."
   ]
  },
  {
   "cell_type": "code",
   "execution_count": 53,
   "metadata": {},
   "outputs": [],
   "source": [
    "logistic_regression.fit(X_test, y_test)\n",
    "\n",
    "y_hat_test = logistic_regression.predict(X_test)"
   ]
  },
  {
   "cell_type": "markdown",
   "metadata": {},
   "source": [
    "For the test set, the model has 5233 true positives, 5043 true negatives, 1201 false positives, and 1063 false negatives."
   ]
  },
  {
   "cell_type": "code",
   "execution_count": 62,
   "metadata": {},
   "outputs": [
    {
     "name": "stdout",
     "output_type": "stream",
     "text": [
      "\n",
      "Confusion Matrix\n",
      "----------------\n",
      "      0     1\n",
      "0  5233  1201\n",
      "1  1063  5043\n"
     ]
    },
    {
     "data": {
      "image/png": "[encoded data removed]",
      "text/plain": [
       "<Figure size 288x288 with 2 Axes>"
      ]
     },
     "metadata": {},
     "output_type": "display_data"
    }
   ],
   "source": [
    "con_mat(y_test, y_hat_test)"
   ]
  },
  {
   "cell_type": "code",
   "execution_count": 56,
   "metadata": {},
   "outputs": [
    {
     "name": "stdout",
     "output_type": "stream",
     "text": [
      "Precision Score: 0.8076553491351698\n",
      "Recall Score: 0.8259089420242385\n",
      "F1 Score: 0.8166801619433198\n",
      "Accuracy Score: 0.8194577352472089\n",
      "Specificity Score: 0.8311626429479034\n"
     ]
    },
    {
     "data": {
      "image/png": "[encoded data removed]",
      "text/plain": [
       "<Figure size 432x288 with 1 Axes>"
      ]
     },
     "metadata": {},
     "output_type": "display_data"
    }
   ],
   "source": [
    "Metrics(y_test, y_hat_test)"
   ]
  },
  {
   "cell_type": "code",
   "execution_count": 61,
   "metadata": {
    "scrolled": true
   },
   "outputs": [
    {
     "name": "stdout",
     "output_type": "stream",
     "text": [
      "AUC: 0.8196221738408417\n"
     ]
    },
    {
     "data": {
      "image/png": "[encoded data removed]",
      "text/plain": [
       "<Figure size 720x576 with 1 Axes>"
      ]
     },
     "metadata": {},
     "output_type": "display_data"
    }
   ],
   "source": [
    "roc(y_test,y_hat_test)"
   ]
  },
  {
   "cell_type": "markdown",
   "metadata": {},
   "source": [
    "# Conclusion"
   ]
  },
  {
   "cell_type": "markdown",
   "metadata": {},
   "source": [
    "The logit model suggests that the government regulations of school closures, travel restrictions, state of emergency declarations, wage support, tax credits, and interest rate lowering decreased the log odds of the presence of virus cases.  Government regulations such as disallowing public gatherings and mandating wearing masks did not decrease the log odds of the presence of virus cases.  The virus travels in sneezed or coughed droplets of mucus or saliva, is airborne for a few moments, and then lands on a surface.  Instead of wearing masks and preventing gatherings, carrying a handkerchiefs in which people could sneeze or cough and sanitizing areas were people gather would be sufficient in preventing the spread of SARS-CoV-2."
   ]
  },
  {
   "cell_type": "code",
   "execution_count": null,
   "metadata": {},
   "outputs": [],
   "source": []
  }
 ],
 "metadata": {
  "kernelspec": {
   "display_name": "Python 3",
   "language": "python",
   "name": "python3"
  },
  "language_info": {
   "codemirror_mode": {
    "name": "ipython",
    "version": 3
   },
   "file_extension": ".py",
   "mimetype": "text/x-python",
   "name": "python",
   "nbconvert_exporter": "python",
   "pygments_lexer": "ipython3",
   "version": "3.8.2"
  }
 },
 "nbformat": 4,
 "nbformat_minor": 4
}
